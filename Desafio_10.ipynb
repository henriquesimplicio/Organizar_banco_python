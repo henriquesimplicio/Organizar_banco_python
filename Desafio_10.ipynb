{
 "cells": [
  {
   "cell_type": "markdown",
   "metadata": {
    "colab_type": "text",
    "id": "view-in-github"
   },
   "source": [
    "![](https://i.imgur.com/YX6UATs.png)"
   ]
  },
  {
   "cell_type": "markdown",
   "metadata": {
    "colab_type": "text",
    "id": "a4-FLDRof6Jv"
   },
   "source": [
    "### Desafio 10\n",
    "\n",
    "Dada uma lista, divida-a em 3 partes iguais e reverta a ordem de cada lista.\n",
    "\n",
    "**Exemplo:** \n",
    "\n",
    "Entrada: \\\n",
    "sampleList = [11, 45, 8, 23, 14, 12, 78, 45, 89]\n",
    "\n",
    "Saída: \\\n",
    "Parte 1 [8, 45, 11] \\\n",
    "Parte 2 [12, 14, 23] \\\n",
    "Parte 3 [89, 45, 78] \n"
   ]
  },
  {
   "cell_type": "code",
   "execution_count": 23,
   "metadata": {},
   "outputs": [],
   "source": [
    "lista = [11,45,8,23,14,12,78,45,89]"
   ]
  },
  {
   "cell_type": "code",
   "execution_count": 24,
   "metadata": {},
   "outputs": [],
   "source": [
    "def divide_lista(lista):\n",
    "    if len(lista)%3==0:\n",
    "        tamanho_listinha = int(len(lista)/3)\n",
    "        return lista[0:tamanho_listinha][::-1],lista[tamanho_listinha:tamanho_listinha*2][::-1], lista[tamanho_listinha*2:tamanho_listinha*3][::-1]\n",
    "    else:\n",
    "        return \"Não divisível por três\"\n",
    "                                       \n",
    "    \n",
    "                                    \n",
    "                                        \n"
   ]
  },
  {
   "cell_type": "code",
   "execution_count": 25,
   "metadata": {},
   "outputs": [
    {
     "data": {
      "text/plain": [
       "([8, 45, 11], [12, 14, 23], [89, 45, 78])"
      ]
     },
     "execution_count": 25,
     "metadata": {},
     "output_type": "execute_result"
    }
   ],
   "source": [
    "divide_lista(lista)"
   ]
  },
  {
   "cell_type": "code",
   "execution_count": null,
   "metadata": {},
   "outputs": [],
   "source": []
  }
 ],
 "metadata": {
  "anaconda-cloud": {},
  "colab": {
   "include_colab_link": true,
   "name": "Desafio 10.ipynb",
   "provenance": []
  },
  "kernelspec": {
   "display_name": "Python 3",
   "language": "python",
   "name": "python3"
  },
  "language_info": {
   "codemirror_mode": {
    "name": "ipython",
    "version": 3
   },
   "file_extension": ".py",
   "mimetype": "text/x-python",
   "name": "python",
   "nbconvert_exporter": "python",
   "pygments_lexer": "ipython3",
   "version": "3.8.5"
  }
 },
 "nbformat": 4,
 "nbformat_minor": 4
}
