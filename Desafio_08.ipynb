{
 "cells": [
  {
   "cell_type": "markdown",
   "metadata": {
    "colab_type": "text",
    "id": "view-in-github"
   },
   "source": [
    "![](https://i.imgur.com/YX6UATs.png)"
   ]
  },
  {
   "cell_type": "markdown",
   "metadata": {
    "colab_type": "text",
    "id": "o3tkeMDNf6Jo"
   },
   "source": [
    "### Desafio 8\n",
    "\n",
    "Escreva um script Python para encontrar as 10 palavras mais longas em um arquivo de texto.\n",
    "O arquivo .txt está localizado na mesma pasta do projeto (**texto.txt**)."
   ]
  },
  {
   "cell_type": "code",
   "execution_count": 8,
   "metadata": {
    "colab": {},
    "colab_type": "code",
    "id": "EknxjSG0f6Jo"
   },
   "outputs": [],
   "source": [
    "with open (\"texto.txt\", \"r\") as f:\n",
    "    texto = f.read()"
   ]
  },
  {
   "cell_type": "code",
   "execution_count": 14,
   "metadata": {
    "colab": {},
    "colab_type": "code",
    "id": "ZYbqEWBG5nKx"
   },
   "outputs": [
    {
     "data": {
      "text/plain": [
       "['general-purpose,',\n",
       " 'object-oriented,',\n",
       " 'comprehensive',\n",
       " 'intermediate)',\n",
       " 'language.Its',\n",
       " 'interpreted,',\n",
       " 'readability,',\n",
       " 'programming',\n",
       " 'high-level,',\n",
       " 'programmers',\n",
       " 'library.The',\n",
       " 'philosophy',\n",
       " 'imperative',\n",
       " 'emphasizes',\n",
       " 'questions.',\n",
       " 'functional',\n",
       " '\\nlanguages',\n",
       " 'procedural',\n",
       " 'management',\n",
       " 'paradigms,',\n",
       " 'automatic',\n",
       " '(beginner',\n",
       " 'including',\n",
       " 'styles.It',\n",
       " 'language?',\n",
       " 'possible',\n",
       " 'concepts',\n",
       " 'features',\n",
       " 'multiple',\n",
       " 'exercise',\n",
       " 'standard',\n",
       " 'anything',\n",
       " 'practice',\n",
       " 'supports',\n",
       " 'familiar',\n",
       " 'started',\n",
       " 'section',\n",
       " 'dynamic',\n",
       " '\\nPython',\n",
       " 'Python.',\n",
       " 'express',\n",
       " 'allows',\n",
       " 'design',\n",
       " 'memory',\n",
       " 'syntax',\n",
       " 'widely',\n",
       " 'system',\n",
       " 'Python',\n",
       " 'fewer',\n",
       " 'those',\n",
       " 'Java.',\n",
       " 'large',\n",
       " 'lines',\n",
       " 'learn',\n",
       " 'this',\n",
       " 'code',\n",
       " 'with',\n",
       " 'best',\n",
       " 'such',\n",
       " 'What',\n",
       " 'type',\n",
       " 'used',\n",
       " 'have',\n",
       " 'than',\n",
       " 'are',\n",
       " 'way',\n",
       " 'has',\n",
       " 'for',\n",
       " 'its',\n",
       " 'C++',\n",
       " 'who',\n",
       " 'and',\n",
       " 'we',\n",
       " 'or',\n",
       " 'is',\n",
       " 'to',\n",
       " 'as',\n",
       " 'We',\n",
       " 'in',\n",
       " 'of',\n",
       " 'by',\n",
       " 'a',\n",
       " '']"
      ]
     },
     "execution_count": 14,
     "metadata": {},
     "output_type": "execute_result"
    }
   ],
   "source": [
    "sorted(set(texto.split(\" \")), key=len, reverse = True)"
   ]
  },
  {
   "cell_type": "code",
   "execution_count": null,
   "metadata": {},
   "outputs": [],
   "source": []
  }
 ],
 "metadata": {
  "anaconda-cloud": {},
  "colab": {
   "include_colab_link": true,
   "name": "Desafio 8.ipynb",
   "provenance": []
  },
  "kernelspec": {
   "display_name": "Python 3",
   "language": "python",
   "name": "python3"
  },
  "language_info": {
   "codemirror_mode": {
    "name": "ipython",
    "version": 3
   },
   "file_extension": ".py",
   "mimetype": "text/x-python",
   "name": "python",
   "nbconvert_exporter": "python",
   "pygments_lexer": "ipython3",
   "version": "3.8.5"
  }
 },
 "nbformat": 4,
 "nbformat_minor": 4
}
